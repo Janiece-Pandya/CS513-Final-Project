{
 "cells": [
  {
   "cell_type": "code",
   "execution_count": 4,
   "metadata": {
    "scrolled": true
   },
   "outputs": [
    {
     "data": {
      "text/html": [
       "<div>\n",
       "<style scoped>\n",
       "    .dataframe tbody tr th:only-of-type {\n",
       "        vertical-align: middle;\n",
       "    }\n",
       "\n",
       "    .dataframe tbody tr th {\n",
       "        vertical-align: top;\n",
       "    }\n",
       "\n",
       "    .dataframe thead th {\n",
       "        text-align: right;\n",
       "    }\n",
       "</style>\n",
       "<table border=\"1\" class=\"dataframe\">\n",
       "  <thead>\n",
       "    <tr style=\"text-align: right;\">\n",
       "      <th></th>\n",
       "      <th>comments</th>\n",
       "      <th>description</th>\n",
       "      <th>duration</th>\n",
       "      <th>event</th>\n",
       "      <th>film_date</th>\n",
       "      <th>languages</th>\n",
       "      <th>main_speaker</th>\n",
       "      <th>name</th>\n",
       "      <th>num_speaker</th>\n",
       "      <th>published_date</th>\n",
       "      <th>ratings</th>\n",
       "      <th>related_talks</th>\n",
       "      <th>speaker_occupation</th>\n",
       "      <th>tags</th>\n",
       "      <th>title</th>\n",
       "      <th>url</th>\n",
       "      <th>views</th>\n",
       "    </tr>\n",
       "  </thead>\n",
       "  <tbody>\n",
       "    <tr>\n",
       "      <th>0</th>\n",
       "      <td>4553</td>\n",
       "      <td>Sir Ken Robinson makes an entertaining and pro...</td>\n",
       "      <td>1164</td>\n",
       "      <td>TED2006</td>\n",
       "      <td>1140825600</td>\n",
       "      <td>60</td>\n",
       "      <td>Ken Robinson</td>\n",
       "      <td>Ken Robinson: Do schools kill creativity?</td>\n",
       "      <td>1</td>\n",
       "      <td>1151367060</td>\n",
       "      <td>[{'id': 7, 'name': 'Funny', 'count': 19645}, {...</td>\n",
       "      <td>[{'id': 865, 'hero': 'https://pe.tedcdn.com/im...</td>\n",
       "      <td>Author/educator</td>\n",
       "      <td>['children', 'creativity', 'culture', 'dance',...</td>\n",
       "      <td>Do schools kill creativity?</td>\n",
       "      <td>https://www.ted.com/talks/ken_robinson_says_sc...</td>\n",
       "      <td>47227110</td>\n",
       "    </tr>\n",
       "    <tr>\n",
       "      <th>1</th>\n",
       "      <td>265</td>\n",
       "      <td>With the same humor and humanity he exuded in ...</td>\n",
       "      <td>977</td>\n",
       "      <td>TED2006</td>\n",
       "      <td>1140825600</td>\n",
       "      <td>43</td>\n",
       "      <td>Al Gore</td>\n",
       "      <td>Al Gore: Averting the climate crisis</td>\n",
       "      <td>1</td>\n",
       "      <td>1151367060</td>\n",
       "      <td>[{'id': 7, 'name': 'Funny', 'count': 544}, {'i...</td>\n",
       "      <td>[{'id': 243, 'hero': 'https://pe.tedcdn.com/im...</td>\n",
       "      <td>Climate advocate</td>\n",
       "      <td>['alternative energy', 'cars', 'climate change...</td>\n",
       "      <td>Averting the climate crisis</td>\n",
       "      <td>https://www.ted.com/talks/al_gore_on_averting_...</td>\n",
       "      <td>3200520</td>\n",
       "    </tr>\n",
       "    <tr>\n",
       "      <th>2</th>\n",
       "      <td>124</td>\n",
       "      <td>New York Times columnist David Pogue takes aim...</td>\n",
       "      <td>1286</td>\n",
       "      <td>TED2006</td>\n",
       "      <td>1140739200</td>\n",
       "      <td>26</td>\n",
       "      <td>David Pogue</td>\n",
       "      <td>David Pogue: Simplicity sells</td>\n",
       "      <td>1</td>\n",
       "      <td>1151367060</td>\n",
       "      <td>[{'id': 7, 'name': 'Funny', 'count': 964}, {'i...</td>\n",
       "      <td>[{'id': 1725, 'hero': 'https://pe.tedcdn.com/i...</td>\n",
       "      <td>Technology columnist</td>\n",
       "      <td>['computers', 'entertainment', 'interface desi...</td>\n",
       "      <td>Simplicity sells</td>\n",
       "      <td>https://www.ted.com/talks/david_pogue_says_sim...</td>\n",
       "      <td>1636292</td>\n",
       "    </tr>\n",
       "    <tr>\n",
       "      <th>3</th>\n",
       "      <td>200</td>\n",
       "      <td>In an emotionally charged talk, MacArthur-winn...</td>\n",
       "      <td>1116</td>\n",
       "      <td>TED2006</td>\n",
       "      <td>1140912000</td>\n",
       "      <td>35</td>\n",
       "      <td>Majora Carter</td>\n",
       "      <td>Majora Carter: Greening the ghetto</td>\n",
       "      <td>1</td>\n",
       "      <td>1151367060</td>\n",
       "      <td>[{'id': 3, 'name': 'Courageous', 'count': 760}...</td>\n",
       "      <td>[{'id': 1041, 'hero': 'https://pe.tedcdn.com/i...</td>\n",
       "      <td>Activist for environmental justice</td>\n",
       "      <td>['MacArthur grant', 'activism', 'business', 'c...</td>\n",
       "      <td>Greening the ghetto</td>\n",
       "      <td>https://www.ted.com/talks/majora_carter_s_tale...</td>\n",
       "      <td>1697550</td>\n",
       "    </tr>\n",
       "    <tr>\n",
       "      <th>4</th>\n",
       "      <td>593</td>\n",
       "      <td>You've never seen data presented like this. Wi...</td>\n",
       "      <td>1190</td>\n",
       "      <td>TED2006</td>\n",
       "      <td>1140566400</td>\n",
       "      <td>48</td>\n",
       "      <td>Hans Rosling</td>\n",
       "      <td>Hans Rosling: The best stats you've ever seen</td>\n",
       "      <td>1</td>\n",
       "      <td>1151440680</td>\n",
       "      <td>[{'id': 9, 'name': 'Ingenious', 'count': 3202}...</td>\n",
       "      <td>[{'id': 2056, 'hero': 'https://pe.tedcdn.com/i...</td>\n",
       "      <td>Global health expert; data visionary</td>\n",
       "      <td>['Africa', 'Asia', 'Google', 'demo', 'economic...</td>\n",
       "      <td>The best stats you've ever seen</td>\n",
       "      <td>https://www.ted.com/talks/hans_rosling_shows_t...</td>\n",
       "      <td>12005869</td>\n",
       "    </tr>\n",
       "  </tbody>\n",
       "</table>\n",
       "</div>"
      ],
      "text/plain": [
       "   comments                                        description  duration  \\\n",
       "0      4553  Sir Ken Robinson makes an entertaining and pro...      1164   \n",
       "1       265  With the same humor and humanity he exuded in ...       977   \n",
       "2       124  New York Times columnist David Pogue takes aim...      1286   \n",
       "3       200  In an emotionally charged talk, MacArthur-winn...      1116   \n",
       "4       593  You've never seen data presented like this. Wi...      1190   \n",
       "\n",
       "     event   film_date  languages   main_speaker  \\\n",
       "0  TED2006  1140825600         60   Ken Robinson   \n",
       "1  TED2006  1140825600         43        Al Gore   \n",
       "2  TED2006  1140739200         26    David Pogue   \n",
       "3  TED2006  1140912000         35  Majora Carter   \n",
       "4  TED2006  1140566400         48   Hans Rosling   \n",
       "\n",
       "                                            name  num_speaker  published_date  \\\n",
       "0      Ken Robinson: Do schools kill creativity?            1      1151367060   \n",
       "1           Al Gore: Averting the climate crisis            1      1151367060   \n",
       "2                  David Pogue: Simplicity sells            1      1151367060   \n",
       "3             Majora Carter: Greening the ghetto            1      1151367060   \n",
       "4  Hans Rosling: The best stats you've ever seen            1      1151440680   \n",
       "\n",
       "                                             ratings  \\\n",
       "0  [{'id': 7, 'name': 'Funny', 'count': 19645}, {...   \n",
       "1  [{'id': 7, 'name': 'Funny', 'count': 544}, {'i...   \n",
       "2  [{'id': 7, 'name': 'Funny', 'count': 964}, {'i...   \n",
       "3  [{'id': 3, 'name': 'Courageous', 'count': 760}...   \n",
       "4  [{'id': 9, 'name': 'Ingenious', 'count': 3202}...   \n",
       "\n",
       "                                       related_talks  \\\n",
       "0  [{'id': 865, 'hero': 'https://pe.tedcdn.com/im...   \n",
       "1  [{'id': 243, 'hero': 'https://pe.tedcdn.com/im...   \n",
       "2  [{'id': 1725, 'hero': 'https://pe.tedcdn.com/i...   \n",
       "3  [{'id': 1041, 'hero': 'https://pe.tedcdn.com/i...   \n",
       "4  [{'id': 2056, 'hero': 'https://pe.tedcdn.com/i...   \n",
       "\n",
       "                     speaker_occupation  \\\n",
       "0                       Author/educator   \n",
       "1                      Climate advocate   \n",
       "2                  Technology columnist   \n",
       "3    Activist for environmental justice   \n",
       "4  Global health expert; data visionary   \n",
       "\n",
       "                                                tags  \\\n",
       "0  ['children', 'creativity', 'culture', 'dance',...   \n",
       "1  ['alternative energy', 'cars', 'climate change...   \n",
       "2  ['computers', 'entertainment', 'interface desi...   \n",
       "3  ['MacArthur grant', 'activism', 'business', 'c...   \n",
       "4  ['Africa', 'Asia', 'Google', 'demo', 'economic...   \n",
       "\n",
       "                             title  \\\n",
       "0      Do schools kill creativity?   \n",
       "1      Averting the climate crisis   \n",
       "2                 Simplicity sells   \n",
       "3              Greening the ghetto   \n",
       "4  The best stats you've ever seen   \n",
       "\n",
       "                                                 url     views  \n",
       "0  https://www.ted.com/talks/ken_robinson_says_sc...  47227110  \n",
       "1  https://www.ted.com/talks/al_gore_on_averting_...   3200520  \n",
       "2  https://www.ted.com/talks/david_pogue_says_sim...   1636292  \n",
       "3  https://www.ted.com/talks/majora_carter_s_tale...   1697550  \n",
       "4  https://www.ted.com/talks/hans_rosling_shows_t...  12005869  "
      ]
     },
     "execution_count": 4,
     "metadata": {},
     "output_type": "execute_result"
    }
   ],
   "source": [
    "%matplotlib inline\n",
    "from sklearn.metrics import mean_squared_error, r2_score \n",
    "from sklearn.feature_extraction.text import CountVectorizer\n",
    "from sklearn.metrics import confusion_matrix, fbeta_score\n",
    "from sklearn.model_selection import train_test_split\n",
    "from sklearn.ensemble import RandomForestClassifier\n",
    "from sklearn.model_selection import GridSearchCV\n",
    "from sklearn.metrics import accuracy_score\n",
    "from sklearn.preprocessing import Imputer\n",
    "from pandas.io.json import json_normalize\n",
    "from sklearn.metrics import make_scorer\n",
    "from sklearn import linear_model\n",
    "from collections import Counter\n",
    "from textblob import TextBlob\n",
    "from sklearn import metrics\n",
    "from scipy import ndimage\n",
    "from scipy import stats\n",
    "from time import time\n",
    "from PIL import Image\n",
    "\n",
    "import matplotlib.pyplot as plt\n",
    "import seaborn as sns\n",
    "import pandas as pd\n",
    "import numpy as np\n",
    "import textblob\n",
    "import datetime\n",
    "import operator\n",
    "import scipy\n",
    "import json\n",
    "import nltk\n",
    "import time\n",
    "import h5py\n",
    "import ast\n",
    "import re\n",
    "\n",
    "df = pd.read_csv('./ted_main.csv')\n",
    "df3 = pd.read_csv('./transcripts.csv')\n",
    "df4 = df\n",
    "df.head()\n",
    "\n"
   ]
  },
  {
   "cell_type": "code",
   "execution_count": 5,
   "metadata": {
    "scrolled": true
   },
   "outputs": [
    {
     "data": {
      "text/plain": [
       "<matplotlib.axes._subplots.AxesSubplot at 0x1a12612d30>"
      ]
     },
     "execution_count": 5,
     "metadata": {},
     "output_type": "execute_result"
    },
    {
     "data": {
      "image/png": "[encoded data removed]",
      "text/plain": [
       "<Figure size 1800x432 with 1 Axes>"
      ]
     },
     "metadata": {},
     "output_type": "display_data"
    }
   ],
   "source": [
    "# Most popular TED Talk\n",
    "pop_talks = df[['title', 'main_speaker', 'views', 'film_date']].sort_values('views', ascending=False)[:15]\n",
    "pop_talks['abbr'] = pop_talks['title'].apply(lambda x: x[:18]) \n",
    "sns.set_style(\"whitegrid\")\n",
    "plt.figure(figsize=(25,6))\n",
    "sns.barplot(x='abbr', y='views', data=pop_talks, palette=\"Blues_d\")\n",
    "\n",
    "\n",
    "\n"
   ]
  },
  {
   "cell_type": "code",
   "execution_count": 111,
   "metadata": {},
   "outputs": [
    {
     "data": {
      "text/plain": [
       "<matplotlib.axes._subplots.AxesSubplot at 0x1a28e55470>"
      ]
     },
     "execution_count": 111,
     "metadata": {},
     "output_type": "execute_result"
    },
    {
     "data": {
      "image/png": "[encoded data removed]",
      "text/plain": [
       "<Figure size 1080x432 with 2 Axes>"
      ]
     },
     "metadata": {},
     "output_type": "display_data"
    }
   ],
   "source": [
    "# Most influencing factors contributing in any video\n",
    "corr = df[['name', 'title', 'description', 'main_speaker', 'speaker_occupation', 'num_speaker', 'duration', 'event', 'film_date', 'published_date', 'comments', 'tags', 'languages', 'ratings', 'related_talks', 'url', 'views']].corr() \n",
    "mask = np.zeros_like(corr, dtype=np.bool) \n",
    "mask[np.triu_indices_from(mask)] = True \n",
    "f, ax = plt.subplots(figsize=(15, 6)) \n",
    "cmap = sns.diverging_palette(220, 10, as_cmap=True, center=\"dark\") \n",
    "sns.heatmap(corr, mask=mask, cmap=cmap, vmax=.6, center=0, square=True, linewidths=.5, cbar_kws={\"shrink\": .5})\n"
   ]
  },
  {
   "cell_type": "code",
   "execution_count": 112,
   "metadata": {},
   "outputs": [
    {
     "data": {
      "text/plain": [
       "416"
      ]
     },
     "execution_count": 112,
     "metadata": {},
     "output_type": "execute_result"
    }
   ],
   "source": [
    "# How TED talks are related\n",
    "df['tags'] = df['tags'].apply(lambda x: ast.literal_eval(x))\n",
    "s = df.apply(lambda x: pd.Series(x['tags']),axis=1).stack().reset_index(level=1, drop=True)\n",
    "s.name = 'theme'\n",
    "theme_df = df.drop('tags', axis=1).join(s)\n",
    "len(theme_df['theme'].value_counts())\n"
   ]
  },
  {
   "cell_type": "code",
   "execution_count": 113,
   "metadata": {
    "scrolled": false
   },
   "outputs": [
    {
     "data": {
      "image/png": "[encoded data removed]",
      "text/plain": [
       "<Figure size 1080x360 with 1 Axes>"
      ]
     },
     "metadata": {},
     "output_type": "display_data"
    }
   ],
   "source": [
    "# Most popular genres\n",
    "pop_themes = pd.DataFrame(theme_df['theme'].value_counts()).reset_index()\n",
    "pop_themes.columns = ['theme', 'talks']\n",
    "plt.figure(figsize=(15,5))\n",
    "sns.barplot(x='theme', y='talks', data=pop_themes.head(10), color=\"salmon\", saturation=.5)\n",
    "plt.show()\n"
   ]
  },
  {
   "cell_type": "code",
   "execution_count": 114,
   "metadata": {},
   "outputs": [
    {
     "data": {
      "text/plain": [
       "count    2550.000000\n",
       "mean      191.562353\n",
       "std       282.315223\n",
       "min         2.000000\n",
       "25%        63.000000\n",
       "50%       118.000000\n",
       "75%       221.750000\n",
       "max      6404.000000\n",
       "Name: comments, dtype: float64"
      ]
     },
     "execution_count": 114,
     "metadata": {},
     "output_type": "execute_result"
    }
   ],
   "source": [
    "#Do people comment on every TED Talk?\n",
    "df['comments'].describe()"
   ]
  },
  {
   "cell_type": "code",
   "execution_count": 115,
   "metadata": {
    "scrolled": true
   },
   "outputs": [],
   "source": [
    "#Date Convertion\n",
    "df = df4\n",
    "df['film_date'] = df['film_date'].apply(lambda x: datetime.datetime.fromtimestamp( int(x)).strftime('%d-%m-%Y'))\n",
    "df['published_date'] = df['published_date'].apply(lambda x: datetime.datetime.fromtimestamp( int(x)).strftime('%d-%m-%Y'))\n",
    "df['published_date'] = pd.to_datetime(df['published_date'])\n",
    "df['film_date'] = pd.to_datetime(df['film_date'])\n",
    "temp = datetime.date(2018,1,1)\n",
    "temp = pd.to_datetime(temp)\n",
    "df['published_date'] = temp - df['published_date']\n",
    "df['film_date'] = temp - df['film_date']\n",
    "df['published_date'] = df['published_date'].dt.days\n",
    "df['film_date'] = df['film_date'].dt.days\n",
    "\n"
   ]
  },
  {
   "cell_type": "code",
   "execution_count": 116,
   "metadata": {},
   "outputs": [
    {
     "name": "stdout",
     "output_type": "stream",
     "text": [
      "                 0\n",
      "technology     727\n",
      "science        675\n",
      "global         565\n",
      "design         526\n",
      "issues         501\n",
      "health         489\n",
      "culture        486\n",
      "tedx           450\n",
      "business       374\n",
      "change         305\n",
      "entertainment  299\n",
      "art            289\n",
      "social         270\n",
      "ted            265\n",
      "biology        234\n",
      "(2550, 52)\n"
     ]
    }
   ],
   "source": [
    "# Top 35 Tags extraction\n",
    "df2 = df['tags']\n",
    "temp = {}\n",
    "for each in df2.values:\n",
    "    for every in each:\n",
    "        test = re.sub('[^A-Za-z0-9]+', ' ', every)\n",
    "        data = test.split()\n",
    "\n",
    "        for entry in data:\n",
    "            entry = entry.lower()\n",
    "\n",
    "            if entry in temp.keys():\n",
    "                temp[entry] += 1 \n",
    "            else:\n",
    "                temp[entry]= 1\n",
    "\n",
    "new = pd.DataFrame.from_dict(temp, orient=\"index\")\n",
    "\n",
    "print(new.sort_values(by = 0, ascending=False).head(15))\n",
    "topTags = new.sort_values(by = 0, ascending=False).head(35).index\n",
    "newtopTags = []\n",
    "for i in topTags: newtopTags.append(i.strip())\n",
    "xx = pd.DataFrame(0, index=np.arange(len(df)), columns=newtopTags)\n",
    "for i in range(len(df)): \n",
    "    for j in topTags:\n",
    "        j = str(j).strip()\n",
    "    if str(j) in str(df['tags'][i]).lower():\n",
    "        xx[str(j)][i] = 1\n",
    "frames = [df, xx]\n",
    "result = pd.concat(frames, axis=1)\n",
    "\n",
    "print(result.shape)"
   ]
  },
  {
   "cell_type": "code",
   "execution_count": 117,
   "metadata": {},
   "outputs": [
    {
     "name": "stdout",
     "output_type": "stream",
     "text": [
      "(2467, 55)\n"
     ]
    }
   ],
   "source": [
    "#Sentiment Polarity Extraction - NLP\n",
    "polarity = []\n",
    "subj = []\n",
    "for t in df3['transcript']:\n",
    "    tx = TextBlob(t)\n",
    "    polarity.append(tx.sentiment.polarity)\n",
    "    subj.append(tx.sentiment.subjectivity)\n",
    "df3['polarity'] = polarity\n",
    "df3['subjectivity'] = subj\n",
    "result = result.merge(df3,on = 'url', how='inner')\n",
    "\n",
    "print(result.shape)"
   ]
  },
  {
   "cell_type": "code",
   "execution_count": 118,
   "metadata": {},
   "outputs": [
    {
     "name": "stdout",
     "output_type": "stream",
     "text": [
      "(2467, 69)\n"
     ]
    }
   ],
   "source": [
    "# extraction of ratings\n",
    "result['ratings'] = result['ratings'].apply(lambda x: eval(str(x)))\n",
    "json_data = result['ratings']\n",
    "newRatings = ['Funny','Beautiful','Ingenious','Courageous','Longwinded','Confusing','Informative','Fascinating','Unconvincing','Persuasive','Jaw-dropping','OK', 'Obnoxious','Inspiring']\n",
    "yy = pd.DataFrame(0, index=np.arange(len(result)), columns=newRatings)\n",
    "ind = 0\n",
    "for i in json_data:\n",
    "    for j in i:\n",
    "        temp = j['name']\n",
    "        yy[temp][ind] = j['count']\n",
    "    ind +=1\n",
    "frame1 = [result, yy]\n",
    "result = pd.concat(frame1, axis=1) \n",
    "\n",
    "print(result.shape)\n",
    "\n",
    " "
   ]
  },
  {
   "cell_type": "code",
   "execution_count": 11,
   "metadata": {},
   "outputs": [
    {
     "name": "stdout",
     "output_type": "stream",
     "text": [
      "(2467, 71)\n",
      "(2467, 73)\n"
     ]
    }
   ],
   "source": [
    "# Description & Title Subjectivity Feature Extraction\n",
    "tem1 = []\n",
    "tem2 = []\n",
    "tem3 = result['description'] #print(type(tem3))\n",
    "for i in tem3:\n",
    "    tem = TextBlob(i)\n",
    "    tem1.append(tem.sentiment.subjectivity)\n",
    "    tem2.append(tem.sentiment.polarity)\n",
    "result['des_subj'] = tem1\n",
    "result['des_sent'] = tem2\n",
    "result.columns\n",
    "print(result.shape)\n",
    "tem1 = []\n",
    "tem2 = []\n",
    "tem3 = result['title'] #print(type(tem3))\n",
    "for i in tem3:\n",
    "    tem = TextBlob(i)\n",
    "    tem1.append(tem.sentiment.subjectivity)\n",
    "    tem2.append(tem.sentiment.polarity)\n",
    "result['tit_subj'] = tem1\n",
    "result['tit_sent'] = tem2\n",
    "result.columns\n",
    "\n",
    "print(result.shape)"
   ]
  },
  {
   "cell_type": "code",
   "execution_count": 12,
   "metadata": {},
   "outputs": [
    {
     "name": "stdout",
     "output_type": "stream",
     "text": [
      "(2467, 83)\n"
     ]
    }
   ],
   "source": [
    "# Speaker Occupcation Feature Extraction\n",
    "li = result['speaker_occupation'] \n",
    "lli=[]\n",
    "lis = []\n",
    "for i in li:\n",
    "    if type(i) == str:\n",
    "        k = i.lower().replace('/',',').replace(';',',').split(',') \n",
    "        lis.append(k)\n",
    "        for j in k:\n",
    "            lli.append(j.strip().lower())\n",
    "    else: \n",
    "        lis.append([])\n",
    "        pass\n",
    "lid = Counter(lli)\n",
    "\n",
    "authdf = pd.DataFrame.from_dict(lid, orient=\"index\").sort_values(by=0, ascending =False).head(10).index\n",
    "newauth = pd.DataFrame(0, index=np.arange(len(result)), columns=authdf)\n",
    "for i in range(len(result)):\n",
    "    for j in authdf:\n",
    "        if str(j) in lis[i]:\n",
    "            newauth[str(j)][i] = 1\n",
    "frames3 = [result, newauth]\n",
    "result = pd.concat(frames3, axis=1)\n",
    "\n",
    "print(result.shape)\n",
    " "
   ]
  },
  {
   "cell_type": "code",
   "execution_count": 13,
   "metadata": {},
   "outputs": [
    {
     "name": "stdout",
     "output_type": "stream",
     "text": [
      "Index(['index', 'comments', 'duration', 'film_date', 'languages',\n",
      "       'num_speaker', 'published_date', 'views', 'technology', 'science',\n",
      "       'global', 'design', 'issues', 'health', 'culture', 'tedx', 'business',\n",
      "       'change', 'entertainment', 'art', 'social', 'ted', 'biology',\n",
      "       'innovation', 'society', 'music', 'brain', 'future', 'communication',\n",
      "       'creativity', 'economics', 'humanity', 'collaboration', 'environment',\n",
      "       'medicine', 'activism', 'education', 'community', 'history', 'women',\n",
      "       'children', 'fellows', 'invention', 'polarity', 'subjectivity', 'Funny',\n",
      "       'Beautiful', 'Ingenious', 'Courageous', 'Longwinded', 'Confusing',\n",
      "       'Informative', 'Fascinating', 'Unconvincing', 'Persuasive',\n",
      "       'Jaw-dropping', 'OK', 'Obnoxious', 'Inspiring', 'des_subj', 'des_sent',\n",
      "       'tit_subj', 'tit_sent', 'writer', 'author', 'designer', 'artist',\n",
      "       'entrepreneur', 'inventor', 'activist', 'journalist', 'educator',\n",
      "       'psychologist'],\n",
      "      dtype='object')\n"
     ]
    }
   ],
   "source": [
    "xyz = result.describe().reset_index()\n",
    "print(xyz.columns)"
   ]
  },
  {
   "cell_type": "code",
   "execution_count": 14,
   "metadata": {},
   "outputs": [],
   "source": [
    "######## Histogram Plot ###################"
   ]
  },
  {
   "cell_type": "code",
   "execution_count": 97,
   "metadata": {},
   "outputs": [
    {
     "name": "stdout",
     "output_type": "stream",
     "text": [
      "      comments                                        description  duration  \\\n",
      "0         4553  Sir Ken Robinson makes an entertaining and pro...      1164   \n",
      "1          265  With the same humor and humanity he exuded in ...       977   \n",
      "2          124  New York Times columnist David Pogue takes aim...      1286   \n",
      "3          200  In an emotionally charged talk, MacArthur-winn...      1116   \n",
      "4          593  You've never seen data presented like this. Wi...      1190   \n",
      "5          672  Tony Robbins discusses the \"invisible forces\" ...      1305   \n",
      "6          919  When two young Mormon missionaries knock on Ju...       992   \n",
      "7           46  Architect Joshua Prince-Ramus takes the audien...      1198   \n",
      "8          852  Philosopher Dan Dennett calls for religion -- ...      1485   \n",
      "9          900  Pastor Rick Warren, author of \"The Purpose-Dri...      1262   \n",
      "10          79  Accepting his 2006 TED Prize, Cameron Sinclair...      1414   \n",
      "11          55  Jehane Noujaim unveils her 2006 TED Prize wish...      1538   \n",
      "12          71  Accepting the 2006 TED Prize, Dr. Larry Brilli...      1550   \n",
      "13         242  Jeff Han shows off a cheap, scalable multi-tou...       527   \n",
      "14          99  Nicholas Negroponte, founder of the MIT Media ...      1057   \n",
      "15         325  Violinist Sirena Huang gives a technically bri...      1481   \n",
      "16         305  Pianist and composer Jennifer Lin gives a magi...      1445   \n",
      "17          88  Fumes from indoor cooking fires kill more than...       906   \n",
      "18         163  Designer Ross Lovegrove expounds his philosoph...      1170   \n",
      "19          84  Jimmy Wales recalls how he assembled \"a ragtag...      1201   \n",
      "20         108  In 2006, open-learning visionary Richard Baran...      1114   \n",
      "21         185  Performer and web toymaker Ze Frank delivers a...      1136   \n",
      "22          50  The founding mother of the blog revolution, Mo...      1006   \n",
      "23         556  Anthropologist Helen Fisher takes on a tricky ...      1407   \n",
      "24         117  Eve Ensler, creator of \"The Vagina Monologues,...      1225   \n",
      "25         184  Legendary scientist David Deutsch puts theoret...      1140   \n",
      "26         507  Biologist Richard Dawkins makes a case for \"th...      1316   \n",
      "27          95  \"Freakonomics\" author Steven Levitt presents n...      1275   \n",
      "28         355  \"Tipping Point\" author Malcolm Gladwell gets i...      1050   \n",
      "29         970  Dan Gilbert, author of \"Stumbling on Happiness...      1276   \n",
      "...        ...                                                ...       ...   \n",
      "2437        81  Meet the \"ems\" -- machines that emulate human ...       736   \n",
      "2438        13  Your cells are coated with sugars that store i...       685   \n",
      "2439        12  Every artist has a name, and every artist has ...       530   \n",
      "2440        20  Another economic reality is possible -- one th...       747   \n",
      "2441         9  We're so used to narratives out of Africa bein...       310   \n",
      "2442        18  Could it be wrong to help children in need by ...       791   \n",
      "2443        39  Meet Todai Robot, an AI project that performed...       817   \n",
      "2444        17  What's stopping the American government from r...       865   \n",
      "2445         3  Digital archaeologist Chance Coughenour is usi...       717   \n",
      "2446        45  We all have origin stories and identity myths,...      1156   \n",
      "2447        12  Daan Roosegaarde uses technology and creative ...       738   \n",
      "2448        18  Terrorists and extremists aren't all naturally...       698   \n",
      "2449        25  What if you knew what your coworkers really th...       993   \n",
      "2450         9  In a mind-bending talk that blurs the line bet...       663   \n",
      "2451         2  What the astronauts felt when they saw Earth f...       725   \n",
      "2452         8  Underneath every shiny new megacity, there's o...       723   \n",
      "2453        21  Can you still be friends with someone who does...       865   \n",
      "2454        39  Our culture is obsessed with happiness, but wh...       738   \n",
      "2455         7  Each year, one in seven large corporations com...       808   \n",
      "2456        10  Forget quinoa. Meet fonio, an ancient \"miracle...       934   \n",
      "2457        33  We've heard a lot of rhetoric lately suggestin...       722   \n",
      "2458        12  Physics doesn't just happen in a fancy lab -- ...       957   \n",
      "2459         3  In the century-old statues that occupy Cape To...       795   \n",
      "2460         7  What if you could know exactly how food or med...       894   \n",
      "2461        10  How can Africa, the home to some of the larges...       810   \n",
      "2462        17  Between 2008 and 2016, the United States depor...       476   \n",
      "2463         6  How can you study Mars without a spaceship? He...       290   \n",
      "2464        10  Science fiction visions of the future show us ...       651   \n",
      "2465        32  In an unmissable talk about race and politics ...      1100   \n",
      "2466         8  With more than half of the world population li...       519   \n",
      "\n",
      "               event  film_date  languages  \\\n",
      "0            TED2006       4329         60   \n",
      "1            TED2006       4329         43   \n",
      "2            TED2006       4330         26   \n",
      "3            TED2006       4328         35   \n",
      "4            TED2006       4332         48   \n",
      "5            TED2006       4382         36   \n",
      "6            TED2006       4330         31   \n",
      "7            TED2006       4331         19   \n",
      "8            TED2006       4382         32   \n",
      "9            TED2006       4329         31   \n",
      "10           TED2006       4328         27   \n",
      "11           TED2006       4328         20   \n",
      "12           TED2006       4331         24   \n",
      "13           TED2006       4262         27   \n",
      "14           TED2006       4331         25   \n",
      "15           TED2006       4331         31   \n",
      "16           TED2004       5059         32   \n",
      "17           TED2006       4330         27   \n",
      "18           TED2005       4694         22   \n",
      "19    TEDGlobal 2005       4555         32   \n",
      "20           TED2006       4331         27   \n",
      "21           TED2004       5061         26   \n",
      "22           TED2006       4331         20   \n",
      "23           TED2006       4330         33   \n",
      "24           TED2004       5053         23   \n",
      "25    TEDGlobal 2005       4555         29   \n",
      "26    TEDGlobal 2005       4591         36   \n",
      "27           TED2004       5058         25   \n",
      "28           TED2004       5059         37   \n",
      "29           TED2004       5113         43   \n",
      "...              ...        ...        ...   \n",
      "2437         TED2017        253          2   \n",
      "2438    TEDxStanford        618          7   \n",
      "2439         TED2017        253          5   \n",
      "2440    TEDxCrenshaw        540          3   \n",
      "2441         TED2017        253         12   \n",
      "2442      TEDxSydney        588          5   \n",
      "2443         TED2017        253          6   \n",
      "2444    TEDxStanford        254          3   \n",
      "2445     TEDxHamburg        544          5   \n",
      "2446      TEDxExeter        984          1   \n",
      "2447         TED2017        253          3   \n",
      "2448       TEDxGhent        563          1   \n",
      "2449         TED2017        253          2   \n",
      "2450         TED2017        253          2   \n",
      "2451       TEDxSkoll        211          1   \n",
      "2452  TEDGlobal 2017        128          4   \n",
      "2453    TEDxMileHigh        178          5   \n",
      "2454         TED2017        253          2   \n",
      "2455      TEDxZurich        447          1   \n",
      "2456         TED2017        128          2   \n",
      "2457         TED@UPS        166          4   \n",
      "2458  TEDxManchester        317          2   \n",
      "2459  TEDGlobal 2017        128          1   \n",
      "2460         TED2017        253          1   \n",
      "2461  TEDGlobal 2017        128          1   \n",
      "2462         TED2017        240          4   \n",
      "2463         TED2017        253          3   \n",
      "2464         TED2017        253          1   \n",
      "2465    TEDxMileHigh        178          1   \n",
      "2466         TED2017        253          1   \n",
      "\n",
      "                                main_speaker  \\\n",
      "0                               Ken Robinson   \n",
      "1                                    Al Gore   \n",
      "2                                David Pogue   \n",
      "3                              Majora Carter   \n",
      "4                               Hans Rosling   \n",
      "5                               Tony Robbins   \n",
      "6                              Julia Sweeney   \n",
      "7                        Joshua Prince-Ramus   \n",
      "8                                Dan Dennett   \n",
      "9                                Rick Warren   \n",
      "10                          Cameron Sinclair   \n",
      "11                            Jehane Noujaim   \n",
      "12                           Larry Brilliant   \n",
      "13                                  Jeff Han   \n",
      "14                       Nicholas Negroponte   \n",
      "15                              Sirena Huang   \n",
      "16                              Jennifer Lin   \n",
      "17                                 Amy Smith   \n",
      "18                            Ross Lovegrove   \n",
      "19                               Jimmy Wales   \n",
      "20                          Richard Baraniuk   \n",
      "21                                  Ze Frank   \n",
      "22                                Mena Trott   \n",
      "23                              Helen Fisher   \n",
      "24                                Eve Ensler   \n",
      "25                             David Deutsch   \n",
      "26                           Richard Dawkins   \n",
      "27                             Steven Levitt   \n",
      "28                          Malcolm Gladwell   \n",
      "29                               Dan Gilbert   \n",
      "...                                      ...   \n",
      "2437                            Robin Hanson   \n",
      "2438                        Carolyn Bertozzi   \n",
      "2439                          Laolu Senbanjo   \n",
      "2440                               Niki Okuk   \n",
      "2441                            Wanuri Kahiu   \n",
      "2442                            Tara Winkler   \n",
      "2443                             Noriko Arai   \n",
      "2444                        Jennifer Granick   \n",
      "2445                       Chance Coughenour   \n",
      "2446                            Chetan Bhatt   \n",
      "2447                        Daan Roosegaarde   \n",
      "2448                      Erin Marie Saltman   \n",
      "2449                               Ray Dalio   \n",
      "2450                         Tomás Saraceno   \n",
      "2451                          Benjamin Grant   \n",
      "2452                     OluTimehin Adegbeye   \n",
      "2453  Caitlin Quattromani and Lauran Arledge   \n",
      "2454                    Emily Esfahani Smith   \n",
      "2455                        Alexander Wagner   \n",
      "2456                            Pierre Thiam   \n",
      "2457                            Augie Picado   \n",
      "2458                           Helen Czerski   \n",
      "2459                      Sethembile Msezane   \n",
      "2460                                Jun Wang   \n",
      "2461                     Olúfẹ́mi Táíwò   \n",
      "2462                        Duarte Geraldino   \n",
      "2463                     Armando Azua-Bustos   \n",
      "2464                          Radhika Nagpal   \n",
      "2465                        Theo E.J. Wilson   \n",
      "2466                       Karoliina Korppoo   \n",
      "\n",
      "                                                   name  num_speaker  \\\n",
      "0             Ken Robinson: Do schools kill creativity?            1   \n",
      "1                  Al Gore: Averting the climate crisis            1   \n",
      "2                         David Pogue: Simplicity sells            1   \n",
      "3                    Majora Carter: Greening the ghetto            1   \n",
      "4         Hans Rosling: The best stats you've ever seen            1   \n",
      "5                    Tony Robbins: Why we do what we do            1   \n",
      "6                      Julia Sweeney: Letting go of God            1   \n",
      "7     Joshua Prince-Ramus: Behind the design of Seat...            1   \n",
      "8     Dan Dennett: Let's teach religion -- all relig...            1   \n",
      "9                        Rick Warren: A life of purpose            1   \n",
      "10    Cameron Sinclair: My wish: A call for open-sou...            1   \n",
      "11        Jehane Noujaim: My wish: A global day of film            1   \n",
      "12     Larry Brilliant: My wish: Help me stop pandemics            1   \n",
      "13    Jeff Han: The radical promise of the multi-tou...            1   \n",
      "14            Nicholas Negroponte: One Laptop per Child            1   \n",
      "15        Sirena Huang: An 11-year-old's magical violin            1   \n",
      "16          Jennifer Lin: Improvising on piano, aged 14            1   \n",
      "17             Amy Smith: Simple designs to save a life            1   \n",
      "18    Ross Lovegrove: Organic design, inspired by na...            1   \n",
      "19                  Jimmy Wales: The birth of Wikipedia            1   \n",
      "20    Richard Baraniuk: The birth of the open-source...            1   \n",
      "21                            Ze Frank: Nerdcore comedy            1   \n",
      "22    Mena Trott: Meet the founder of the blog revol...            1   \n",
      "23              Helen Fisher: Why we love, why we cheat            1   \n",
      "24               Eve Ensler: Happiness in body and soul            1   \n",
      "25    David Deutsch: Chemical scum that dream of dis...            1   \n",
      "26    Richard Dawkins: Why the universe seems so str...            1   \n",
      "27     Steven Levitt: The freakonomics of crack dealing            1   \n",
      "28    Malcolm Gladwell: Choice, happiness and spaghe...            1   \n",
      "29     Dan Gilbert: The surprising science of happiness            1   \n",
      "...                                                 ...          ...   \n",
      "2437  Robin Hanson: What would happen if we upload o...            1   \n",
      "2438  Carolyn Bertozzi: What the sugar coating on yo...            1   \n",
      "2439        Laolu Senbanjo: \"The Sacred Art of the Ori\"            1   \n",
      "2440  Niki Okuk: When workers own companies, the eco...            1   \n",
      "2441  Wanuri Kahiu: Fun, fierce and fantastical Afri...            1   \n",
      "2442  Tara Winkler: Why we need to end the era of or...            1   \n",
      "2443  Noriko Arai: Can a robot pass a university ent...            1   \n",
      "2444  Jennifer Granick: How the US government spies ...            1   \n",
      "2445  Chance Coughenour: How your pictures can help ...            1   \n",
      "2446  Chetan Bhatt: Dare to refuse the origin myths ...            1   \n",
      "2447  Daan Roosegaarde: A smog vacuum cleaner and ot...            1   \n",
      "2448  Erin Marie Saltman: How young people join viol...            1   \n",
      "2449  Ray Dalio: How to build a company where the be...            1   \n",
      "2450  Tomás Saraceno: Would you live in a floating ...            1   \n",
      "2451  Benjamin Grant: What it feels like to see Eart...            1   \n",
      "2452        OluTimehin Adegbeye: Who belongs in a city?            1   \n",
      "2453  Caitlin Quattromani and Lauran Arledge: How ou...            2   \n",
      "2454  Emily Esfahani Smith: There's more to life tha...            1   \n",
      "2455  Alexander Wagner: What really motivates people...            1   \n",
      "2456  Pierre Thiam: A forgotten ancient grain that c...            1   \n",
      "2457  Augie Picado: The real reason manufacturing jo...            1   \n",
      "2458  Helen Czerski: The fascinating physics of ever...            1   \n",
      "2459  Sethembile Msezane: Living sculptures that sta...            1   \n",
      "2460  Jun Wang: How digital DNA could help you make ...            1   \n",
      "2461  Olúfẹ́mi Táíwò: Why Africa must become a ...            1   \n",
      "2462  Duarte Geraldino: What we're missing in the de...            1   \n",
      "2463  Armando Azua-Bustos: The most Martian place on...            1   \n",
      "2464  Radhika Nagpal: What intelligent machines can ...            1   \n",
      "2465  Theo E.J. Wilson: A black man goes undercover ...            1   \n",
      "2466  Karoliina Korppoo: How a video game might help...            1   \n",
      "\n",
      "      published_date      ...      writer author designer artist entrepreneur  \\\n",
      "0               4207      ...           0      1        0      0            0   \n",
      "1               4207      ...           0      0        0      0            0   \n",
      "2               4207      ...           0      0        0      0            0   \n",
      "3               4207      ...           0      0        0      0            0   \n",
      "4               4206      ...           0      0        0      0            0   \n",
      "5               4206      ...           0      0        0      0            0   \n",
      "6               4134      ...           0      0        0      0            0   \n",
      "7               4134      ...           0      0        0      0            0   \n",
      "8               4186      ...           0      0        0      0            0   \n",
      "9               4186      ...           0      0        0      0            0   \n",
      "10              4179      ...           0      0        0      0            0   \n",
      "11              4179      ...           0      0        0      0            0   \n",
      "12              4179      ...           0      0        0      0            0   \n",
      "13              4172      ...           0      0        0      0            0   \n",
      "14              4172      ...           0      0        0      0            0   \n",
      "15              4195      ...           0      0        0      0            0   \n",
      "16              4195      ...           0      0        0      0            0   \n",
      "17              4158      ...           0      0        0      0            0   \n",
      "18              4158      ...           0      0        0      0            0   \n",
      "19              4152      ...           0      0        0      0            0   \n",
      "20              4152      ...           0      0        0      0            0   \n",
      "21              4148      ...           0      0        0      0            0   \n",
      "22              4148      ...           0      0        0      0            0   \n",
      "23              4255      ...           0      0        0      0            0   \n",
      "24              4255      ...           0      0        0      0            0   \n",
      "25              4071      ...           0      0        0      0            0   \n",
      "26              4071      ...           0      0        0      0            0   \n",
      "27              4123      ...           0      0        0      0            0   \n",
      "28              4123      ...           1      0        0      0            0   \n",
      "29              4116      ...           0      0        0      0            0   \n",
      "...              ...      ...         ...    ...      ...    ...          ...   \n",
      "2437             130      ...           0      0        0      0            0   \n",
      "2438             130      ...           0      0        0      0            0   \n",
      "2439             129      ...           0      0        0      1            0   \n",
      "2440             126      ...           0      0        0      0            1   \n",
      "2441             125      ...           0      0        0      0            0   \n",
      "2442             125      ...           0      0        0      0            0   \n",
      "2443             124      ...           0      0        0      0            0   \n",
      "2444             123      ...           0      0        0      0            0   \n",
      "2445             123      ...           0      0        0      0            0   \n",
      "2446             357      ...           0      0        0      0            0   \n",
      "2447             237      ...           0      0        0      1            0   \n",
      "2448             237      ...           0      0        0      0            0   \n",
      "2449             206      ...           0      0        0      0            0   \n",
      "2450             176      ...           0      0        0      1            0   \n",
      "2451             176      ...           0      1        0      0            0   \n",
      "2452             145      ...           1      0        0      0            0   \n",
      "2453              53      ...           0      0        0      0            0   \n",
      "2454              23      ...           0      1        0      0            0   \n",
      "2455              23      ...           0      0        0      0            0   \n",
      "2456             110      ...           0      0        0      0            0   \n",
      "2457             109      ...           0      0        0      0            0   \n",
      "2458             109      ...           0      0        0      0            0   \n",
      "2459             108      ...           0      0        0      1            0   \n",
      "2460             105      ...           0      0        0      0            0   \n",
      "2461             104      ...           0      0        0      0            0   \n",
      "2462             104      ...           0      0        0      0            0   \n",
      "2463             103      ...           0      0        0      0            0   \n",
      "2464             102      ...           0      0        0      0            0   \n",
      "2465             102      ...           0      0        0      0            0   \n",
      "2466             101      ...           0      0        0      0            0   \n",
      "\n",
      "     inventor  activist  journalist  educator  psychologist  \n",
      "0           0         0           0         1             0  \n",
      "1           0         0           0         0             0  \n",
      "2           0         0           0         0             0  \n",
      "3           0         0           0         0             0  \n",
      "4           0         0           0         0             0  \n",
      "5           0         0           0         0             0  \n",
      "6           0         0           0         0             0  \n",
      "7           0         0           0         0             0  \n",
      "8           0         0           0         0             0  \n",
      "9           0         0           0         0             0  \n",
      "10          0         0           0         0             0  \n",
      "11          0         0           0         0             0  \n",
      "12          0         0           0         0             0  \n",
      "13          0         0           0         0             0  \n",
      "14          0         0           0         0             0  \n",
      "15          0         0           0         0             0  \n",
      "16          0         0           0         0             0  \n",
      "17          1         0           0         0             0  \n",
      "18          0         0           0         0             0  \n",
      "19          0         0           0         0             0  \n",
      "20          0         0           0         0             0  \n",
      "21          0         0           0         0             0  \n",
      "22          0         0           0         0             0  \n",
      "23          0         0           0         0             0  \n",
      "24          0         0           0         0             0  \n",
      "25          0         0           0         0             0  \n",
      "26          0         0           0         0             0  \n",
      "27          0         0           0         0             0  \n",
      "28          0         0           0         0             0  \n",
      "29          0         0           0         0             1  \n",
      "...       ...       ...         ...       ...           ...  \n",
      "2437        0         0           0         0             0  \n",
      "2438        0         0           0         0             0  \n",
      "2439        0         0           0         0             0  \n",
      "2440        0         0           0         0             0  \n",
      "2441        0         0           0         0             0  \n",
      "2442        0         0           0         0             0  \n",
      "2443        0         0           0         0             0  \n",
      "2444        0         0           0         0             0  \n",
      "2445        0         0           0         0             0  \n",
      "2446        0         0           0         0             0  \n",
      "2447        0         0           0         0             0  \n",
      "2448        0         0           0         0             0  \n",
      "2449        0         0           0         0             0  \n",
      "2450        0         0           0         0             0  \n",
      "2451        0         0           0         0             0  \n",
      "2452        0         0           0         0             0  \n",
      "2453        0         0           0         0             0  \n",
      "2454        0         0           0         0             0  \n",
      "2455        0         0           0         0             0  \n",
      "2456        0         0           0         0             0  \n",
      "2457        0         0           0         0             0  \n",
      "2458        0         0           0         0             0  \n",
      "2459        0         0           0         0             0  \n",
      "2460        0         0           0         0             0  \n",
      "2461        0         0           0         0             0  \n",
      "2462        0         0           1         0             0  \n",
      "2463        0         0           0         0             0  \n",
      "2464        0         0           0         0             0  \n",
      "2465        0         0           0         0             0  \n",
      "2466        0         0           0         0             0  \n",
      "\n",
      "[2467 rows x 83 columns]\n"
     ]
    },
    {
     "data": {
      "image/png": "[encoded data removed]",
      "text/plain": [
       "<Figure size 432x288 with 1 Axes>"
      ]
     },
     "metadata": {},
     "output_type": "display_data"
    }
   ],
   "source": [
    "plt.hist((result['views']))\n",
    "print(result)"
   ]
  },
  {
   "cell_type": "code",
   "execution_count": 16,
   "metadata": {},
   "outputs": [
    {
     "data": {
      "text/plain": [
       "(array([ 26., 180., 532., 959., 475., 185.,  64.,  28.,  14.,   4.]),\n",
       " array([5.19283219, 5.4409681 , 5.68910402, 5.93723994, 6.18537586,\n",
       "        6.43351178, 6.6816477 , 6.92978362, 7.17791953, 7.42605545,\n",
       "        7.67419137]),\n",
       " <a list of 10 Patch objects>)"
      ]
     },
     "execution_count": 16,
     "metadata": {},
     "output_type": "execute_result"
    },
    {
     "data": {
      "image/png": "[encoded data removed]",
      "text/plain": [
       "<Figure size 432x288 with 1 Axes>"
      ]
     },
     "metadata": {},
     "output_type": "display_data"
    }
   ],
   "source": [
    "plt.hist(np.log10(result['views']))"
   ]
  },
  {
   "cell_type": "code",
   "execution_count": 17,
   "metadata": {},
   "outputs": [],
   "source": [
    "X_temp = result[['comments', 'duration', 'film_date', 'languages',\n",
    "       'num_speaker', 'published_date', 'views', 'technology', 'science',\n",
    "       'global', 'design', 'issues', 'health', 'culture', 'tedx', 'business',\n",
    "       'change', 'entertainment', 'art', 'social', 'ted', 'biology',\n",
    "       'innovation', 'society', 'music', 'brain', 'future', 'communication',\n",
    "       'creativity', 'economics', 'humanity', 'collaboration', 'environment',\n",
    "       'medicine', 'activism', 'education', 'community', 'history', 'women',\n",
    "       'children', 'fellows', 'invention', 'polarity', 'subjectivity', 'Funny',\n",
    "       'Beautiful', 'Ingenious', 'Courageous', 'Longwinded', 'Confusing',\n",
    "       'Informative', 'Fascinating', 'Unconvincing', 'Persuasive',\n",
    "       'Jaw-dropping', 'OK', 'Obnoxious', 'Inspiring', 'des_subj', 'des_sent',\n",
    "       'tit_subj', 'tit_sent', 'writer', 'author', 'designer', 'artist',\n",
    "       'entrepreneur', 'inventor', 'activist', 'journalist', 'educator',\n",
    "       'psychologist']]\n",
    "y = np.log10(result['views'])\n",
    "\n",
    "mu = X_temp.mean(axis=0) \n",
    "stdv = X_temp.std(axis = 0) \n",
    "X = (X_temp - mu)/stdv \n"
   ]
  },
  {
   "cell_type": "code",
   "execution_count": 18,
   "metadata": {},
   "outputs": [],
   "source": [
    "########################################################"
   ]
  },
  {
   "cell_type": "code",
   "execution_count": 19,
   "metadata": {},
   "outputs": [],
   "source": [
    "# Regression Result on Training Set:"
   ]
  },
  {
   "cell_type": "code",
   "execution_count": 20,
   "metadata": {},
   "outputs": [],
   "source": [
    "########################################################"
   ]
  },
  {
   "cell_type": "code",
   "execution_count": 21,
   "metadata": {},
   "outputs": [
    {
     "name": "stdout",
     "output_type": "stream",
     "text": [
      "Training Data Summary\n",
      "=======================\n",
      "Linear Regression Score on Training Data: 74.95804339689137% \n",
      "\n",
      "Ridge Regression Scores on Training:\n",
      "====================================\n",
      "Score with Alpha 0 is 74.9578226424004%\n",
      "Score with Alpha 0.1 is 73.43359725239539%\n",
      "Score with Alpha 0.5 is 66.81048280767727%\n",
      "Score with Alpha 5 is 45.450200709278725%\n"
     ]
    }
   ],
   "source": [
    "\n",
    "print(\"Training Data Summary\")\n",
    "print(\"=======================\")\n",
    "X_train, X_test, y_train, y_test = train_test_split(np.nan_to_num(X),y,test_size = 0.3) \n",
    "                                   \n",
    "\n",
    "Lreg = linear_model.LinearRegression(normalize=True)\n",
    "Lreg.fit(X_train, y_train)\n",
    "predicted = Lreg.predict(X_train)\n",
    "temp1 = Lreg.score(X_train,y_train)\n",
    "\n",
    "print(\"Linear Regression Score on Training Data: {}% \\n\".format(temp1*100))\n",
    "\n",
    "print(\"Ridge Regression Scores on Training:\")\n",
    "print(\"====================================\")\n",
    "li = [0,0.1,0.5,5]\n",
    "regli = []\n",
    "for i in li:\n",
    "    Rreg = linear_model.Ridge(normalize = True, alpha = i) \n",
    "    Rreg.fit(X_train, y_train)\n",
    "    regli.append(Rreg)\n",
    "    predicted1 = Lreg.predict(X_train)\n",
    "    temp2 = Rreg.score(X_train,y_train)\n",
    "    print(\"Score with Alpha {} is {}%\".format(i,temp2*100)) \n",
    "    #print(temp2*100)"
   ]
  },
  {
   "cell_type": "code",
   "execution_count": 22,
   "metadata": {},
   "outputs": [
    {
     "name": "stdout",
     "output_type": "stream",
     "text": [
      "Testing Data Summary\n",
      "====================\n",
      "Linear Regression Score on testing Data is 68.21145273156144% \n",
      "\n",
      "Ridge Regression Scores on Testing:\n",
      "===================================\n",
      "Score with Alpha 0 is 68.22751485655006%\n",
      "Score with Alpha 0.1 is 67.08188135304746%\n",
      "Score with Alpha 0.5 is 62.15153281156388%\n",
      "Score with Alpha 5 is 42.772697681281755%\n"
     ]
    }
   ],
   "source": [
    "# Regression Result on Testing Set:\n",
    "print(\"Testing Data Summary\")\n",
    "print(\"====================\")\n",
    "predicted2 = Lreg.predict(X_test)\n",
    "temp4 = Lreg.score(X_test,y_test)\n",
    "print(\"Linear Regression Score on testing Data is {}% \\n\".format(temp4*100)) #print(metrics.r2_score(predicted1, y_test)*100)\n",
    "print(\"Ridge Regression Scores on Testing:\") \n",
    "print(\"===================================\") \n",
    "for j in range(4):\n",
    "    predicted2 = regli[j].predict(X_test)\n",
    "    temp3 = regli[j].score(X_test,y_test)\n",
    "    print(\"Score with Alpha {} is {}%\".format(li[j],temp3*100))"
   ]
  },
  {
   "cell_type": "code",
   "execution_count": 23,
   "metadata": {},
   "outputs": [],
   "source": [
    "### Writing to csv file for Neural Network\n",
    "X.to_csv(\"/Users/msharma/Documents/Stevens/CS513_2ndSem/513_Assignments/Project/new1.csv\")\n",
    "y.to_csv(\"/Users/msharma/Documents/Stevens/CS513_2ndSem/513_Assignments/Project/new2.csv\")\n",
    " "
   ]
  },
  {
   "cell_type": "code",
   "execution_count": 24,
   "metadata": {},
   "outputs": [],
   "source": [
    "########################################################"
   ]
  },
  {
   "cell_type": "code",
   "execution_count": 25,
   "metadata": {},
   "outputs": [],
   "source": [
    "#####################  Neural Network  ###################"
   ]
  },
  {
   "cell_type": "code",
   "execution_count": 26,
   "metadata": {},
   "outputs": [],
   "source": [
    "########################################################"
   ]
  },
  {
   "cell_type": "code",
   "execution_count": 27,
   "metadata": {},
   "outputs": [
    {
     "name": "stdout",
     "output_type": "stream",
     "text": [
      "(2220, 1)\n",
      "(72, 2220)\n"
     ]
    }
   ],
   "source": [
    "# Neural Network algorithm and Training\n",
    "Xpd = pd.read_table(\"./new1.csv\", index_col=0, sep=',')\n",
    "ypd = pd.read_table(\"./new2.csv\", index_col=0, sep=',', header=None)\n",
    "X_el = np.matrix(Xpd)\n",
    "Y_el = np.matrix(ypd)\n",
    "X, X_test, Y, y_test = train_test_split(X_el, Y_el, test_size=0.10, random_state =324)\n",
    "X = X.T\n",
    "print(Y.shape) #(m,1)\n",
    "print(X.shape) #(n,m)"
   ]
  },
  {
   "cell_type": "code",
   "execution_count": 28,
   "metadata": {},
   "outputs": [],
   "source": [
    "#Hyper Parameter (W, b) Initialization\n",
    "\n",
    "def initialize_parameters_deep(layers_dims,initialization=\"he\"):\n",
    "    np.random.seed(3)\n",
    "    parameters = {}\n",
    "    L = len(layers_dims) # number of layers in the network\n",
    "    for l in range(1, L):\n",
    "        if initialization == \"zeros\":\n",
    "            parameters['W' + str(l)] = np.zeros((layers_dims[l], layers_dims[l-1]))\n",
    "            parameters['b' + str(l)] = np.zeros((layers_dims[l],1)) \n",
    "        elif initialization == \"random\":\n",
    "            parameters['W' + str(l)] = np.random.randn(layers_dims[l],layers_dims[l-1]) * 0.01\n",
    "            parameters['b' + str(l)] = np.zeros((layers_dims[l],1)) \n",
    "        elif initialization == \"he\":\n",
    "            parameters['W' + str(l)] = np.random.randn(layers_dims[l],layers_dims[l-1]) * np.sqrt(2/layers_dims[l-1])\n",
    "            parameters['b' + str(l)] = np.zeros((layers_dims[l],1)) \n",
    "        assert(parameters['W' + str(l)].shape == (layers_dims[l], layers_dims[l- 1]))\n",
    "        assert(parameters['b' + str(l)].shape == (layers_dims[l], 1))\n",
    "\n",
    "    return parameters"
   ]
  },
  {
   "cell_type": "code",
   "execution_count": 29,
   "metadata": {},
   "outputs": [],
   "source": [
    "def sigmoid(z):\n",
    "    s = 1/(1+np.exp(-z)) \n",
    "    return s,z\n",
    "\n",
    "def relu(z):\n",
    "    s = (abs(z) + z) / 2 \n",
    "    return s,z"
   ]
  },
  {
   "cell_type": "code",
   "execution_count": 30,
   "metadata": {},
   "outputs": [],
   "source": [
    "def linear_forward(A, W, b):\n",
    "    \n",
    "    Z = np.dot(W,A) + b\n",
    "    assert(Z.shape == (W.shape[0], A.shape[1])) \n",
    "    cache = (A, W, b)\n",
    "    \n",
    "    return Z, cache"
   ]
  },
  {
   "cell_type": "code",
   "execution_count": 31,
   "metadata": {},
   "outputs": [],
   "source": [
    "def linear_activation_forward(A_prev, W, b, activation):\n",
    "    \n",
    "    if activation == \"sigmoid\":\n",
    "        # Inputs: \"A_prev, W, b\". Outputs: \"A, activation_cache\". \n",
    "        Z, linear_cache = linear_forward(A_prev,W,b)\n",
    "        #Z = np.dot(W,A_prev) + b\n",
    "        A, activation_cache = sigmoid(Z)\n",
    "        #print(\"sigmoid\")\n",
    "        \n",
    "    elif activation == \"relu\":\n",
    "        # Inputs: \"A_prev, W, b\". Outputs: \"A, activation_cache\". \n",
    "        Z, linear_cache = linear_forward(A_prev,W,b)\n",
    "        #Z = np.dot(W,A_prev) + b\n",
    "        A, activation_cache = relu(Z)\n",
    "        #print(\"relu\")\n",
    "        \n",
    "    assert (A.shape == (W.shape[0], A_prev.shape[1])) \n",
    "    cache = (linear_cache, activation_cache)\n",
    "    return A, cache"
   ]
  },
  {
   "cell_type": "code",
   "execution_count": 32,
   "metadata": {},
   "outputs": [],
   "source": [
    "def L_model_forward(X, parameters,keep_prob=1):\n",
    "    caches = []\n",
    "    A=X\n",
    "    L = len(parameters) // 2 # number of layers in the neural network\n",
    "    # Implement [LINEAR -> RELU]*(L-1). Add \"cache\" to the \"caches\" list. \n",
    "    for l in range(1, L):\n",
    "        A_prev = A\n",
    "        #print(A_prev.shape)\n",
    "        A, cache = linear_activation_forward(A_prev, parameters['W' + str(l)] ,parameters['b' + str(l)], \"relu\")\n",
    "        D = np.random.rand(A.shape[0],A.shape[1])\n",
    "        D = D < keep_prob\n",
    "        A = np.multiply(A,D )\n",
    "        A = A/keep_prob\n",
    "        cache = cache + (D,)\n",
    "        caches.append(cache)\n",
    "    # Implement LINEAR -> SIGMOID. Add \"cache\" to the \"caches\" list.\n",
    "    AL, cache = linear_activation_forward(A,parameters['W' + str(L)] ,parameters['b' + str(L)],\"relu\" )\n",
    "    caches.append(cache) \n",
    "    assert(AL.shape == (1,X.shape[1]))\n",
    "    return AL, caches"
   ]
  },
  {
   "cell_type": "code",
   "execution_count": 33,
   "metadata": {},
   "outputs": [],
   "source": [
    "# Cost Computation\n",
    "def compute_cost(AL, Y,parameters,lambd,regularized=False):\n",
    "    m = Y.shape[1]\n",
    "    cross_entropy_cost = (1/(2*m))* np.sum(np.square(AL - Y))\n",
    "    loop_len = len(parameters)//2\n",
    "    if regularized == True: \n",
    "        temp = 0\n",
    "        for i in range(1,loop_len+1):\n",
    "            temp += np.sum(np.square(parameters['W' + str(i)]))\n",
    "        L2_regularization_cost = (1/m) * (lambd/2) * temp\n",
    "        cost = cross_entropy_cost + L2_regularization_cost \n",
    "    else:\n",
    "        cost = cross_entropy_cost\n",
    "    cost = np.squeeze(cost)\n",
    "    assert(cost.shape == ()) \n",
    "    return cost"
   ]
  },
  {
   "cell_type": "code",
   "execution_count": 34,
   "metadata": {},
   "outputs": [],
   "source": [
    "#Back Propogation\n",
    "def linear_backward(dZ, cache,D,lambd,keep_prob,val):\n",
    "    #linear_cache, activation_cache,D = cache\n",
    "    linear_cache, activation_cache, dummy= cache\n",
    "    A_prev, W, b = linear_cache\n",
    "    m = A_prev.shape[1]\n",
    "    dA_prev = np.dot(W.T, dZ)\n",
    "    if val ==0: \n",
    "        dZ_prev = None\n",
    "    else:\n",
    "        dA_prev = np.multiply(dA_prev,D )\n",
    "        dA_prev = dA_prev/keep_prob\n",
    "        dZ_prev = np.multiply(dA_prev, np.int64(A_prev > 0))\n",
    "    dW = (1./m) * np.dot(dZ,A_prev.T) + ((lambd/m) * W) \n",
    "    db = (1./m) * np.sum(dZ,axis=1)\n",
    "    assert (dA_prev.shape == A_prev.shape)\n",
    "    assert (dW.shape == W.shape)\n",
    "    assert (db.shape == b.shape) \n",
    "    return dZ_prev, dA_prev, dW, db"
   ]
  },
  {
   "cell_type": "code",
   "execution_count": 35,
   "metadata": {},
   "outputs": [],
   "source": [
    "def L_model_backward(AL, Y, caches, lambd,keep_prob):\n",
    "    grads = {}\n",
    "    L = len(caches) # the number of layers\n",
    "    #print(L)\n",
    "    m = AL.shape[1]\n",
    "    Y = Y.reshape(AL.shape) # after this line, Y is the same shape as AL\n",
    "    # Initializing the backpropagation and dZL for last layer\n",
    "    dAL = - (np.divide(Y, AL) - np.divide(1 - Y, 1 - AL))\n",
    "    linear_cache, activation_cache = caches[L-1]\n",
    "    A_prev2, W3, b3 = linear_cache\n",
    "    dZ_prev3 = AL - Y\n",
    "    grads[\"dW\" + str(L)] = 1./m * np.dot(dZ_prev3, A_prev2.T)+((lambd/m) * W3)\n",
    "    grads[\"db\" + str(L)] = 1./m * np.sum(dZ_prev3, axis=1)\n",
    "    dA_prev2 = np.dot(W3.T, dZ_prev3)\n",
    "    linear_cache, activation_cache,D = caches[L-2]\n",
    "    dA_prev2 = np.multiply(D,dA_prev2)\n",
    "    dA_prev2 = dA_prev2/keep_prob\n",
    "    dZ = np.multiply(dA_prev2, np.int64(A_prev2 > 0))\n",
    "    x, y,D_prev = caches[L-3]\n",
    "    # Loop from l=L-2 to l=0\n",
    "    for l in reversed(range(L)):\n",
    "        # lth layer: (RELU -> LINEAR) gradients.\n",
    "        # Inputs: \"grads[\"dA\" + str(l + 1)], current_cache\". Outputs: \"grads[\"dA\" + str(l)] , grads[\"dW\" + str(l + 1)] , grads[\"db\" + str(l + 1)]\n",
    "        current_cache = caches[l-1]\n",
    "        D = D_prev\n",
    "        val = l - 1\n",
    "        dZ_prev, dA_prev_temp, dW_temp, db_temp = linear_backward(dZ, current_cache, D,lambd,keep_prob, val) \n",
    "        if val ==0:\n",
    "            pass \n",
    "        else:\n",
    "            x, y, D_prev = caches[l-2]\n",
    "        dZ = dZ_prev\n",
    "        #grads[\"dA\" + str(l)] = dA_prev_temp\n",
    "        grads[\"dW\" + str(l)] = dW_temp \n",
    "        grads[\"db\" + str(l)] = db_temp \n",
    "        if val ==0:\n",
    "            break \n",
    "    return grads"
   ]
  },
  {
   "cell_type": "code",
   "execution_count": 36,
   "metadata": {},
   "outputs": [],
   "source": [
    "def update_parameters(parameters, grads, learning_rate):\n",
    "    L = len(parameters) // 2 # number of layers in the neural network\n",
    "    # Update rule for each parameter. Use a for loop.\n",
    "    for l in range(L):\n",
    "        parameters[\"W\" + str(l+1)] = parameters[\"W\" + str(l+1)] - learning_rate * grads[\"dW\" + str(l + 1)]\n",
    "        parameters[\"b\" + str(l+1)] = parameters[\"b\" + str(l+1)] - learning_rate * grads[\"db\" + str(l + 1)] \n",
    "    return parameters"
   ]
  },
  {
   "cell_type": "code",
   "execution_count": 37,
   "metadata": {},
   "outputs": [],
   "source": [
    "#Deep Learning Model\n",
    "\n",
    "def model(X, Y, learning_rate = 0.3, num_iterations = 5000, print_cost = True, lambd = 0.01, keep_prob = 1):\n",
    "    grads = {}\n",
    "    costs = [] # to keep track of the cost \n",
    "    m = X.shape[1] # number of examples \n",
    "    layers_dims = [X.shape[0],100,50, 1]\n",
    "    parameters = initialize_parameters_deep(layers_dims,\"random\")\n",
    "\n",
    "    # Loop (gradient descent)\n",
    "    for i in range(0, num_iterations):\n",
    "        AL, cache = L_model_forward(X, parameters,keep_prob) \n",
    "        cost = compute_cost(AL, Y.T,parameters,lambd,True) \n",
    "        grads = L_model_backward(AL, Y, cache, lambd,keep_prob)\n",
    "        \n",
    "        parameters = update_parameters(parameters, grads, learning_rate)\n",
    "        \n",
    "        if print_cost and i % 1000 == 0:\n",
    "            print(\"Cost after iteration {}: {}\".format(i, cost)) \n",
    "            if (i>= 3000):\n",
    "                x = str(input(\"Wanna continue?\")) \n",
    "                if x == str(\"No\"):\n",
    "                    break\n",
    "        if print_cost and i % 1000 == 0:\n",
    "            costs.append(cost)\n",
    "    # plot the cost\n",
    "    plt.plot(costs)\n",
    "    plt.ylabel('cost')\n",
    "    plt.xlabel('iterations (x1,000)')\n",
    "    plt.title(\"Learning rate =\" + str(learning_rate))\n",
    "    plt.show()\n",
    "    return parameters,grads"
   ]
  },
  {
   "cell_type": "code",
   "execution_count": 38,
   "metadata": {},
   "outputs": [
    {
     "name": "stderr",
     "output_type": "stream",
     "text": [
      "/Users/msharma/anaconda3/lib/python3.7/site-packages/ipykernel_launcher.py:8: RuntimeWarning: divide by zero encountered in true_divide\n",
      "  \n"
     ]
    },
    {
     "name": "stdout",
     "output_type": "stream",
     "text": [
      "Cost after iteration 0: 18.61159086269781\n",
      "Cost after iteration 1000: 0.0046134425003164\n",
      "Cost after iteration 2000: 0.003991607709022952\n",
      "Cost after iteration 3000: 0.0038099009519145088\n",
      "Wanna continue?No\n"
     ]
    },
    {
     "data": {
      "image/png": "[encoded data removed]",
      "text/plain": [
       "<Figure size 432x288 with 1 Axes>"
      ]
     },
     "metadata": {},
     "output_type": "display_data"
    }
   ],
   "source": [
    "parameters,grads = model(np.nan_to_num(X), Y, lambd=4)"
   ]
  },
  {
   "cell_type": "code",
   "execution_count": 39,
   "metadata": {},
   "outputs": [
    {
     "name": "stdout",
     "output_type": "stream",
     "text": [
      "On the train set:\n",
      "=================\n",
      "Score: 98.1838091641644%\n",
      "On the Testing set:\n",
      "===================\n",
      "Score: 97.47074117973044%\n"
     ]
    }
   ],
   "source": [
    "print(\"On the train set:\")\n",
    "print(\"=================\")\n",
    "AL, xx = L_model_forward(np.nan_to_num(X), parameters)\n",
    "te = metrics.r2_score(AL.T, Y)\n",
    "print(\"Score: {}%\".format(te*100))\n",
    "print(\"On the Testing set:\") \n",
    "print(\"===================\")\n",
    "Y_predicted, xx = L_model_forward(np.nan_to_num(X_test.T), parameters) \n",
    "tem = metrics.r2_score(Y_predicted.T, y_test) \n",
    "print(\"Score: {}%\".format(tem*100))"
   ]
  },
  {
   "cell_type": "code",
   "execution_count": 40,
   "metadata": {
    "scrolled": false
   },
   "outputs": [
    {
     "name": "stdout",
     "output_type": "stream",
     "text": [
      "[[6.30752898 5.84710542 6.0216837  5.71843276 5.88094215]]\n",
      "[[6.31223385 5.80112615 5.98900114 5.76111091 5.92596997]]\n"
     ]
    }
   ],
   "source": [
    "print(y_test[:5].T)\n",
    "print(Y_predicted[0,:5])"
   ]
  },
  {
   "cell_type": "code",
   "execution_count": 41,
   "metadata": {},
   "outputs": [],
   "source": [
    "########################################################"
   ]
  },
  {
   "cell_type": "code",
   "execution_count": 42,
   "metadata": {},
   "outputs": [],
   "source": [
    "# WORD CLOUD"
   ]
  },
  {
   "cell_type": "code",
   "execution_count": 43,
   "metadata": {},
   "outputs": [],
   "source": [
    "########################################################"
   ]
  },
  {
   "cell_type": "code",
   "execution_count": 44,
   "metadata": {},
   "outputs": [],
   "source": [
    "corpus = ' '.join(df3['transcript'])\n",
    "corpus = corpus.replace('.', '. ')"
   ]
  },
  {
   "cell_type": "code",
   "execution_count": 45,
   "metadata": {},
   "outputs": [
    {
     "data": {
      "image/png": "[encoded data removed]",
      "text/plain": [
       "<Figure size 720x864 with 1 Axes>"
      ]
     },
     "metadata": {},
     "output_type": "display_data"
    }
   ],
   "source": [
    "from wordcloud import WordCloud, STOPWORDS\n",
    "wc = WordCloud(stopwords=STOPWORDS, background_color='white',width=1500,height=1000).generate(corpus)\n",
    "plt.figure(figsize=(10,12))\n",
    "plt.imshow(wc)\n",
    "plt.axis('off')\n",
    "plt.show()"
   ]
  },
  {
   "cell_type": "code",
   "execution_count": 46,
   "metadata": {},
   "outputs": [],
   "source": [
    "########################################################"
   ]
  },
  {
   "cell_type": "code",
   "execution_count": 47,
   "metadata": {},
   "outputs": [],
   "source": [
    "########### RANDOM FOREST !!!##############"
   ]
  },
  {
   "cell_type": "code",
   "execution_count": 48,
   "metadata": {},
   "outputs": [],
   "source": [
    "########################################################"
   ]
  },
  {
   "cell_type": "code",
   "execution_count": 70,
   "metadata": {},
   "outputs": [
    {
     "name": "stdout",
     "output_type": "stream",
     "text": [
      "(2550, 17) (2467, 2)\n"
     ]
    }
   ],
   "source": [
    "df = pd.read_csv('./ted_main.csv')\n",
    "df3 = pd.read_csv('./transcripts.csv')\n",
    "print (df.shape, df3.shape)"
   ]
  },
  {
   "cell_type": "code",
   "execution_count": 71,
   "metadata": {},
   "outputs": [
    {
     "name": "stdout",
     "output_type": "stream",
     "text": [
      "No. of talks remain:  2439\n"
     ]
    }
   ],
   "source": [
    "# Step 1 : exclude those that are non-TED events\n",
    "\n",
    "df = df[df['event'].str[0:3]=='TED'].reset_index()\n",
    "df.loc[:,'event_cat'] = df['event'].apply(lambda x: 'TEDx' if x[0:4]=='TEDx' else 'TED')\n",
    "\n",
    "print (\"No. of talks remain: \", len(df))"
   ]
  },
  {
   "cell_type": "code",
   "execution_count": 73,
   "metadata": {},
   "outputs": [],
   "source": [
    "# Step 2 : Construct a decision tree\n",
    "df['ratings']=df['ratings'].str.replace(\"'\",'\"')\n",
    "df=df.merge(df.ratings.apply(lambda x: pd.Series(pd.read_json(x)['count'].values,index=pd.read_json(x)['name'])), \n",
    "            left_index=True, right_index=True)"
   ]
  },
  {
   "cell_type": "code",
   "execution_count": 93,
   "metadata": {},
   "outputs": [
    {
     "name": "stdout",
     "output_type": "stream",
     "text": [
      "Popular talks that are not popular:  301\n",
      "Popular talks Ratio: 0.8766\n"
     ]
    },
    {
     "data": {
      "text/html": [
       "<div>\n",
       "<style scoped>\n",
       "    .dataframe tbody tr th:only-of-type {\n",
       "        vertical-align: middle;\n",
       "    }\n",
       "\n",
       "    .dataframe tbody tr th {\n",
       "        vertical-align: top;\n",
       "    }\n",
       "\n",
       "    .dataframe thead th {\n",
       "        text-align: right;\n",
       "    }\n",
       "</style>\n",
       "<table border=\"1\" class=\"dataframe\">\n",
       "  <thead>\n",
       "    <tr style=\"text-align: right;\">\n",
       "      <th></th>\n",
       "      <th>title</th>\n",
       "      <th>main_speaker</th>\n",
       "      <th>speaker_occupation</th>\n",
       "      <th>event</th>\n",
       "      <th>duration</th>\n",
       "      <th>Longwinded</th>\n",
       "      <th>positive</th>\n",
       "      <th>negative</th>\n",
       "      <th>Popular</th>\n",
       "    </tr>\n",
       "  </thead>\n",
       "  <tbody>\n",
       "    <tr>\n",
       "      <th>113</th>\n",
       "      <td>A memorial at Ground Zero</td>\n",
       "      <td>David Rockwell</td>\n",
       "      <td>Architect, experience designer</td>\n",
       "      <td>TED2002</td>\n",
       "      <td>1477</td>\n",
       "      <td>64</td>\n",
       "      <td>129</td>\n",
       "      <td>144</td>\n",
       "      <td>0</td>\n",
       "    </tr>\n",
       "    <tr>\n",
       "      <th>177</th>\n",
       "      <td>A master architect asks, Now what?</td>\n",
       "      <td>Frank Gehry</td>\n",
       "      <td>Architect</td>\n",
       "      <td>TED2002</td>\n",
       "      <td>1320</td>\n",
       "      <td>161</td>\n",
       "      <td>492</td>\n",
       "      <td>273</td>\n",
       "      <td>0</td>\n",
       "    </tr>\n",
       "    <tr>\n",
       "      <th>201</th>\n",
       "      <td>My days as a young rebel</td>\n",
       "      <td>Frank Gehry</td>\n",
       "      <td>Architect</td>\n",
       "      <td>TED1990</td>\n",
       "      <td>2678</td>\n",
       "      <td>76</td>\n",
       "      <td>209</td>\n",
       "      <td>104</td>\n",
       "      <td>0</td>\n",
       "    </tr>\n",
       "    <tr>\n",
       "      <th>393</th>\n",
       "      <td>Rethinking the way we sit down</td>\n",
       "      <td>Niels Diffrient</td>\n",
       "      <td>Designer</td>\n",
       "      <td>TED2002</td>\n",
       "      <td>1040</td>\n",
       "      <td>234</td>\n",
       "      <td>466</td>\n",
       "      <td>318</td>\n",
       "      <td>0</td>\n",
       "    </tr>\n",
       "    <tr>\n",
       "      <th>396</th>\n",
       "      <td>Comics of bygone New York</td>\n",
       "      <td>Ben Katchor</td>\n",
       "      <td>Cartoonist</td>\n",
       "      <td>TED2002</td>\n",
       "      <td>671</td>\n",
       "      <td>64</td>\n",
       "      <td>128</td>\n",
       "      <td>121</td>\n",
       "      <td>0</td>\n",
       "    </tr>\n",
       "    <tr>\n",
       "      <th>725</th>\n",
       "      <td>The path to ending ethnic conflicts</td>\n",
       "      <td>Stefan Wolff</td>\n",
       "      <td>Ethnic conflicts scholar</td>\n",
       "      <td>TEDGlobal 2010</td>\n",
       "      <td>1055</td>\n",
       "      <td>75</td>\n",
       "      <td>195</td>\n",
       "      <td>153</td>\n",
       "      <td>0</td>\n",
       "    </tr>\n",
       "  </tbody>\n",
       "</table>\n",
       "</div>"
      ],
      "text/plain": [
       "                                   title     main_speaker  \\\n",
       "113            A memorial at Ground Zero   David Rockwell   \n",
       "177   A master architect asks, Now what?      Frank Gehry   \n",
       "201             My days as a young rebel      Frank Gehry   \n",
       "393       Rethinking the way we sit down  Niels Diffrient   \n",
       "396            Comics of bygone New York      Ben Katchor   \n",
       "725  The path to ending ethnic conflicts     Stefan Wolff   \n",
       "\n",
       "                 speaker_occupation           event  duration  Longwinded  \\\n",
       "113  Architect, experience designer         TED2002      1477          64   \n",
       "177                       Architect         TED2002      1320         161   \n",
       "201                       Architect         TED1990      2678          76   \n",
       "393                        Designer         TED2002      1040         234   \n",
       "396                      Cartoonist         TED2002       671          64   \n",
       "725        Ethnic conflicts scholar  TEDGlobal 2010      1055          75   \n",
       "\n",
       "     positive  negative  Popular  \n",
       "113       129       144        0  \n",
       "177       492       273        0  \n",
       "201       209       104        0  \n",
       "393       466       318        0  \n",
       "396       128       121        0  \n",
       "725       195       153        0  "
      ]
     },
     "execution_count": 93,
     "metadata": {},
     "output_type": "execute_result"
    }
   ],
   "source": [
    "Positive = ['Beautiful', 'Courageous', 'Fascinating', 'Funny', 'Informative', 'Ingenious', 'Inspiring', 'Jaw-dropping', 'Persuasive']\n",
    "Negative = ['Confusing', 'Longwinded', 'Obnoxious', 'Unconvincing']\n",
    "df['positive']=df.loc[:,Positive].sum(axis=1)+1\n",
    "df['negative']=df.loc[:,Negative].sum(axis=1)+1\n",
    "df['pop_ratio']=df['positive']/df['negative']\n",
    "df.loc[:,'Popular'] = df['pop_ratio'].apply (lambda x: 1 if x >5 else 0)\n",
    "\n",
    "print (\"Popular talks that are not popular: \", len(df[df['Popular']==0]))\n",
    "\n",
    "overall_mean_popular = np.mean(df.Popular)\n",
    "print (\"Popular talks Ratio: {:.4f}\".format(overall_mean_popular))\n",
    "\n",
    "lw = df.Longwinded / (df.positive + df.negative)\n",
    "lw_talks_id = lw[lw>0.2].index\n",
    "df.loc[lw_talks_id,['title','main_speaker','speaker_occupation','event','duration','Longwinded','positive','negative','Popular']]\n"
   ]
  },
  {
   "cell_type": "code",
   "execution_count": 88,
   "metadata": {},
   "outputs": [
    {
     "data": {
      "text/html": [
       "<div>\n",
       "<style scoped>\n",
       "    .dataframe tbody tr th:only-of-type {\n",
       "        vertical-align: middle;\n",
       "    }\n",
       "\n",
       "    .dataframe tbody tr th {\n",
       "        vertical-align: top;\n",
       "    }\n",
       "\n",
       "    .dataframe thead th {\n",
       "        text-align: right;\n",
       "    }\n",
       "</style>\n",
       "<table border=\"1\" class=\"dataframe\">\n",
       "  <thead>\n",
       "    <tr style=\"text-align: right;\">\n",
       "      <th></th>\n",
       "      <th>pct_popular</th>\n",
       "      <th>talks_count</th>\n",
       "    </tr>\n",
       "    <tr>\n",
       "      <th>num_speaker</th>\n",
       "      <th></th>\n",
       "      <th></th>\n",
       "    </tr>\n",
       "  </thead>\n",
       "  <tbody>\n",
       "    <tr>\n",
       "      <th>1</th>\n",
       "      <td>0.876942</td>\n",
       "      <td>2381</td>\n",
       "    </tr>\n",
       "    <tr>\n",
       "      <th>2</th>\n",
       "      <td>0.897959</td>\n",
       "      <td>49</td>\n",
       "    </tr>\n",
       "    <tr>\n",
       "      <th>3</th>\n",
       "      <td>0.800000</td>\n",
       "      <td>5</td>\n",
       "    </tr>\n",
       "    <tr>\n",
       "      <th>4</th>\n",
       "      <td>0.333333</td>\n",
       "      <td>3</td>\n",
       "    </tr>\n",
       "    <tr>\n",
       "      <th>5</th>\n",
       "      <td>1.000000</td>\n",
       "      <td>1</td>\n",
       "    </tr>\n",
       "  </tbody>\n",
       "</table>\n",
       "</div>"
      ],
      "text/plain": [
       "             pct_popular  talks_count\n",
       "num_speaker                          \n",
       "1               0.876942         2381\n",
       "2               0.897959           49\n",
       "3               0.800000            5\n",
       "4               0.333333            3\n",
       "5               1.000000            1"
      ]
     },
     "execution_count": 88,
     "metadata": {},
     "output_type": "execute_result"
    }
   ],
   "source": [
    "x = df.groupby('num_speaker').mean()['Popular'].rename('pct_popular')\n",
    "pd.concat([x, df.num_speaker.value_counts().rename('talks_count')], axis=1)\n"
   ]
  },
  {
   "cell_type": "code",
   "execution_count": 89,
   "metadata": {},
   "outputs": [],
   "source": [
    "# CountVectorizer Tags\n",
    "\n",
    "cv = CountVectorizer(stop_words='english',min_df=20/len(df)) \n",
    "tag_array = cv.fit_transform(df.tags).toarray()\n",
    "tag_matrix = pd.DataFrame(tag_array, columns = cv.get_feature_names())\n",
    "all_tags = tag_matrix.columns\n",
    "tag_matrix = pd.concat([tag_matrix, df.Popular], axis=1)\n",
    "by_tag = dict()\n",
    "for col in all_tags:\n",
    "    by_tag[col]=tag_matrix.groupby(col)['Popular'].mean()[1] - overall_mean_popular\n",
    "tag_rank = pd.DataFrame.from_dict(by_tag, orient='index')\n",
    "tag_rank.columns = ['pop_rate_diff']\n"
   ]
  },
  {
   "cell_type": "code",
   "execution_count": 90,
   "metadata": {},
   "outputs": [],
   "source": [
    "# CountVectorizer occupation of speakers\n",
    "\n",
    "df.loc[:,'occ'] = df.speaker_occupation.copy()\n",
    "df.occ = df.occ.fillna('Unknown')\n",
    "df.occ = df.occ.str.replace('singer/songwriter', 'singer, songwriter')\n",
    "df.occ = df.occ.str.replace('singer-songwriter', 'singer, songwriter')\n",
    "cv2 = CountVectorizer(stop_words='english', min_df=20/len(df))\n",
    "occ_array = cv2.fit_transform(df.occ).toarray()\n",
    "occ_matrix = pd.DataFrame(occ_array, columns = cv2.get_feature_names())\n",
    "all_occ = occ_matrix.columns\n",
    "occ_matrix = pd.concat([occ_matrix, df.Popular], axis=1)\n",
    "by_occ = dict()\n",
    "for col in all_occ:\n",
    "    by_occ[col]=occ_matrix.groupby(col)['Popular'].mean()[1] - overall_mean_popular\n",
    "occ_rank = pd.DataFrame.from_dict(by_occ, orient='index')\n",
    "occ_rank.columns = ['pop_rate_diff']\n"
   ]
  },
  {
   "cell_type": "code",
   "execution_count": 92,
   "metadata": {},
   "outputs": [],
   "source": [
    "# Step 3 : Prediction Model : Tags and Speaker occupation and Randomforest\n",
    "\n",
    "y = df.Popular\n",
    "x = pd.concat([occupation_matrix.drop('Popular', axis=1), tag_matrix.drop('Popular', axis=1)], axis=1)\n",
    "x_train, x_test, y_train, y_test = train_test_split(x, y, test_size=0.25, random_state=36)\n",
    "\n",
    "\n",
    "def predict(rdfCLF, parameters):\n",
    "    rdfCLF.fit(x_train, y_train)\n",
    "    scorer = make_scorer(fbeta_score, beta=1)\n",
    "    # 5-fold cross validation\n",
    "    start = time()\n",
    "\n",
    "    grid_obj = GridSearchCV(rdfCLF, parameters, cv=5, scoring=scorer)\n",
    "    grid_fit = grid_obj.fit(x_train, y_train)\n",
    "    best_rdfCLF = grid_fit.best_estimator_\n",
    "    best_prob_train = best_rdfCLF.predict_proba(x_train)\n",
    "    best_prob = best_rdfCLF.predict_proba(x_test)\n",
    "    best_pred_train = (best_prob_train[:,1]>0.65)*1\n",
    "    best_pred = (best_prob[:,1]>0.65)*1\n",
    "\n",
    "    end = time()\n",
    "\n",
    "    run_time = end - start\n",
    "\n",
    "\n",
    "    print (rdfCLF.__class__.__name__ + \":\")\n",
    "    print (\"training data accuracy score: {:.4f}\".format(best_rdfCLF.score(x_train, y_train)))\n",
    "    print (\"testing data accuracy score: {:.4f}\".format(best_rdfCLF.score(x_test, y_test)))\n",
    "    print (\"training data F1-score: {:.4f}\".format(fbeta_score(y_train, best_pred_train, beta = 1)))\n",
    "    print (\"testing data F1-score: {:.4f}\".format(fbeta_score(y_test, best_pred, beta = 1)))    \n",
    "    \n",
    "    print (\"Parameters: \", grid_fit.best_params_)\n",
    "    print (\"Total runtime: {:.4f} seconds\".format(run_time))\n",
    "    \n",
    "    return best_prob_train, best_prob, best_pred_train, best_pred"
   ]
  },
  {
   "cell_type": "code",
   "execution_count": 91,
   "metadata": {},
   "outputs": [
    {
     "name": "stdout",
     "output_type": "stream",
     "text": [
      "RandomForestClassifier:\n",
      "training data accuracy score: 0.9158\n",
      "testing data accuracy score: 0.8721\n",
      "training data F1-score: 0.9800\n",
      "testing data F1-score: 0.9170\n",
      "Parameters:  {'max_features': 'log2', 'min_samples_split': 6, 'n_estimators': 14}\n",
      "Total runtime: 11.4925 seconds\n"
     ]
    }
   ],
   "source": [
    "# Step 4 : Train The Random Forest Classifier\n",
    "\n",
    "rdfCLF = RandomForestClassifier(random_state = 108)\n",
    "parameters = {'n_estimators': range(10,21,2), 'max_features': ['auto', 'log2'], 'min_samples_split': range(3, 7)}\n",
    "\n",
    "rf_prob_train, rf_prob, rf_pred_train, rf_pred = predict(rdfCLF, parameters)\n"
   ]
  },
  {
   "cell_type": "code",
   "execution_count": 108,
   "metadata": {},
   "outputs": [
    {
     "data": {
      "text/html": [
       "<div>\n",
       "<style scoped>\n",
       "    .dataframe tbody tr th:only-of-type {\n",
       "        vertical-align: middle;\n",
       "    }\n",
       "\n",
       "    .dataframe tbody tr th {\n",
       "        vertical-align: top;\n",
       "    }\n",
       "\n",
       "    .dataframe thead th {\n",
       "        text-align: right;\n",
       "    }\n",
       "</style>\n",
       "<table border=\"1\" class=\"dataframe\">\n",
       "  <thead>\n",
       "    <tr style=\"text-align: right;\">\n",
       "      <th></th>\n",
       "      <th>0</th>\n",
       "      <th>1</th>\n",
       "    </tr>\n",
       "  </thead>\n",
       "  <tbody>\n",
       "    <tr>\n",
       "      <th>0</th>\n",
       "      <td>172</td>\n",
       "      <td>54</td>\n",
       "    </tr>\n",
       "    <tr>\n",
       "      <th>1</th>\n",
       "      <td>11</td>\n",
       "      <td>1592</td>\n",
       "    </tr>\n",
       "  </tbody>\n",
       "</table>\n",
       "</div>"
      ],
      "text/plain": [
       "     0     1\n",
       "0  172    54\n",
       "1   11  1592"
      ]
     },
     "execution_count": 108,
     "metadata": {},
     "output_type": "execute_result"
    }
   ],
   "source": [
    "# Confusion Matrix to validate the accuracy\n",
    "\n",
    "pd.DataFrame(confusion_matrix(y_train, rf_pred_train))\n",
    "\n"
   ]
  },
  {
   "cell_type": "code",
   "execution_count": 107,
   "metadata": {},
   "outputs": [
    {
     "data": {
      "text/html": [
       "<div>\n",
       "<style scoped>\n",
       "    .dataframe tbody tr th:only-of-type {\n",
       "        vertical-align: middle;\n",
       "    }\n",
       "\n",
       "    .dataframe tbody tr th {\n",
       "        vertical-align: top;\n",
       "    }\n",
       "\n",
       "    .dataframe thead th {\n",
       "        text-align: right;\n",
       "    }\n",
       "</style>\n",
       "<table border=\"1\" class=\"dataframe\">\n",
       "  <thead>\n",
       "    <tr style=\"text-align: right;\">\n",
       "      <th></th>\n",
       "      <th>0</th>\n",
       "      <th>1</th>\n",
       "    </tr>\n",
       "  </thead>\n",
       "  <tbody>\n",
       "    <tr>\n",
       "      <th>0</th>\n",
       "      <td>3</td>\n",
       "      <td>72</td>\n",
       "    </tr>\n",
       "    <tr>\n",
       "      <th>1</th>\n",
       "      <td>21</td>\n",
       "      <td>514</td>\n",
       "    </tr>\n",
       "  </tbody>\n",
       "</table>\n",
       "</div>"
      ],
      "text/plain": [
       "    0    1\n",
       "0   3   72\n",
       "1  21  514"
      ]
     },
     "execution_count": 107,
     "metadata": {},
     "output_type": "execute_result"
    }
   ],
   "source": [
    "pd.DataFrame(confusion_matrix(y_test, rf_pred))\n",
    "\n"
   ]
  }
 ],
 "metadata": {
  "kernelspec": {
   "display_name": "Python 3",
   "language": "python",
   "name": "python3"
  },
  "language_info": {
   "codemirror_mode": {
    "name": "ipython",
    "version": 3
   },
   "file_extension": ".py",
   "mimetype": "text/x-python",
   "name": "python",
   "nbconvert_exporter": "python",
   "pygments_lexer": "ipython3",
   "version": "3.6.5"
  }
 },
 "nbformat": 4,
 "nbformat_minor": 2
}
